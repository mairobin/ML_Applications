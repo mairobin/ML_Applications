{
 "cells": [
  {
   "cell_type": "markdown",
   "id": "5febd842-3e06-46c9-bcd7-d09011788ae1",
   "metadata": {},
   "source": [
    "### Tech Stack"
   ]
  },
  {
   "cell_type": "code",
   "execution_count": 1,
   "id": "12725a47-cfee-408f-88ae-c2df3426cb11",
   "metadata": {},
   "outputs": [
    {
     "name": "stderr",
     "output_type": "stream",
     "text": [
      "USER_AGENT environment variable not set, consider setting it to identify your requests.\n"
     ]
    }
   ],
   "source": [
    "import bs4\n",
    "import os\n",
    "\n",
    "# General \n",
    "from langchain import hub\n",
    "from langchain.text_splitter import RecursiveCharacterTextSplitter\n",
    "from langchain_community.document_loaders import WebBaseLoader\n",
    "from langchain_community.vectorstores import Chroma\n",
    "from langchain_core.output_parsers import StrOutputParser\n",
    "from langchain_core.runnables import RunnablePassthrough\n",
    "from langchain_openai import ChatOpenAI, OpenAIEmbeddings\n",
    "from langchain_core.prompts import ChatPromptTemplate\n",
    "from langchain_community.vectorstores import FAISS\n",
    "from langchain.chains import create_retrieval_chain\n",
    "from langchain.chains import create_history_aware_retriever\n",
    "from langchain_core.prompts import MessagesPlaceholder\n",
    "from langchain_core.messages import HumanMessage, AIMessage\n",
    "\n",
    "\n",
    "# Agents\n",
    "from langchain.tools.retriever import create_retriever_tool\n",
    "from langchain import hub\n",
    "from langchain.agents import create_openai_functions_agent\n",
    "from langchain.agents import AgentExecutor\n",
    "\n"
   ]
  },
  {
   "cell_type": "markdown",
   "id": "6a248d6c-5043-45a6-8cc2-065bf14cc43a",
   "metadata": {},
   "source": [
    "# DONT FORGET TO INCLUDE KEYS "
   ]
  },
  {
   "cell_type": "code",
   "execution_count": 5,
   "id": "9269551b-5610-45fa-8269-519b4c3f07ee",
   "metadata": {},
   "outputs": [],
   "source": [
    "os.environ['LANGCHAIN_TRACING_V2'] = 'true'\n",
    "os.environ['LANGCHAIN_ENDPOINT'] = 'https://api.smith.langchain.com'\n",
    "os.environ['LANGCHAIN_API_KEY'] = langchain_key"
   ]
  },
  {
   "cell_type": "code",
   "execution_count": 6,
   "id": "4cc7c824-84ce-455f-97e1-5b3802d00882",
   "metadata": {},
   "outputs": [],
   "source": [
    "os.environ['OPENAI_API_KEY'] = openai_key"
   ]
  },
  {
   "cell_type": "code",
   "execution_count": 7,
   "id": "36de7751-9611-43cb-b871-a7fa0bef5325",
   "metadata": {},
   "outputs": [],
   "source": [
    "os.environ['TAVILY_API_KEY'] = tavily_key"
   ]
  },
  {
   "cell_type": "code",
   "execution_count": 8,
   "id": "f2f302ae-5122-46da-954d-8622cbe2ef08",
   "metadata": {},
   "outputs": [],
   "source": [
    "\n",
    "\n",
    "llm = ChatOpenAI()"
   ]
  },
  {
   "cell_type": "code",
   "execution_count": 9,
   "id": "02a5586f-201f-4e28-803f-017797e6d4ea",
   "metadata": {},
   "outputs": [
    {
     "data": {
      "text/plain": [
       "AIMessage(content='Meistere die LLM Coding Challenge, um deine Fähigkeiten im Programmieren zu verbessern und neue berufliche Möglichkeiten zu erschließen.', additional_kwargs={'refusal': None}, response_metadata={'token_usage': {'completion_tokens': 34, 'prompt_tokens': 25, 'total_tokens': 59, 'completion_tokens_details': {'reasoning_tokens': 0}}, 'model_name': 'gpt-3.5-turbo-0125', 'system_fingerprint': None, 'finish_reason': 'stop', 'logprobs': None}, id='run-f9db96c6-312a-4734-93a6-e536d3c3233d-0', usage_metadata={'input_tokens': 25, 'output_tokens': 34, 'total_tokens': 59})"
      ]
     },
     "execution_count": 9,
     "metadata": {},
     "output_type": "execute_result"
    }
   ],
   "source": [
    "llm.invoke(\"Motiviere mich in einem Satz die LLM Coding Challenge zu meistern.\")"
   ]
  },
  {
   "cell_type": "code",
   "execution_count": 10,
   "id": "30c40fc5-3fef-47e6-9eec-eac8ac3f5dad",
   "metadata": {},
   "outputs": [],
   "source": [
    "#We can also guide its response with a prompt template. \n",
    "#Prompt templates convert raw user input to better input to the LLM.\n",
    "\n",
    "prompt = ChatPromptTemplate.from_messages([\n",
    "    (\"system\", \"You are a world class motivator.\"),\n",
    "    (\"user\", \"{input}\")\n",
    "])"
   ]
  },
  {
   "cell_type": "code",
   "execution_count": 11,
   "id": "6ca79488-4c0c-4297-bb7f-c59f88426929",
   "metadata": {},
   "outputs": [],
   "source": [
    "output_parser = StrOutputParser()"
   ]
  },
  {
   "cell_type": "markdown",
   "id": "7375b5f9-f380-4521-bf17-911b21bf79e4",
   "metadata": {},
   "source": [
    "### Query ChatGPT - Build a simple chain"
   ]
  },
  {
   "cell_type": "code",
   "execution_count": 12,
   "id": "f0af45d8-50f9-403b-9a72-66c0d554f820",
   "metadata": {},
   "outputs": [],
   "source": [
    "# Build a simple chain\n",
    "chain = prompt | llm | output_parser"
   ]
  },
  {
   "cell_type": "code",
   "execution_count": 13,
   "id": "c3e52d52-fca1-4834-ad35-2e6bbfb4c28b",
   "metadata": {},
   "outputs": [
    {
     "data": {
      "text/plain": [
       "'Du hast das Potential, die LLM Coding Challenge zu meistern und deine Fähigkeiten auf ein neues Level zu heben - sei fokussiert, bleib dran und lass deinen Ehrgeiz dich zum Erfolg führen!'"
      ]
     },
     "execution_count": 13,
     "metadata": {},
     "output_type": "execute_result"
    }
   ],
   "source": [
    "chain.invoke({\"input\": \"Motiviere mich in einem Satz die LLM Coding Challenge zu meistern.\"})"
   ]
  },
  {
   "cell_type": "markdown",
   "id": "2f9ab8ed-0ade-4dac-9ae2-54a5f38ae94d",
   "metadata": {},
   "source": [
    "### Retrieval Chain\n",
    "- A retriever is a component used to fetch or retrieve relevant documents or information from a large collection of data\n",
    "- The retriever’s role is to identify and return the most relevant pieces"
   ]
  },
  {
   "cell_type": "code",
   "execution_count": 14,
   "id": "39b00522-6cfc-4b39-8177-0d898627e223",
   "metadata": {},
   "outputs": [],
   "source": [
    "# Use Web Page as External Source\n",
    "\n",
    "from langchain_community.document_loaders import WebBaseLoader\n",
    "loader = WebBaseLoader(\"https://www.futurebrains.io/team/nicolas-a-durr\")\n",
    "\n",
    "docs = loader.load()"
   ]
  },
  {
   "cell_type": "code",
   "execution_count": 15,
   "id": "c6059cd2-1638-4120-8f41-4d513af5c34e",
   "metadata": {},
   "outputs": [],
   "source": [
    "# Embeddings Model\n",
    "embeddings = OpenAIEmbeddings()"
   ]
  },
  {
   "cell_type": "code",
   "execution_count": 16,
   "id": "fd3470fa-14b6-4413-ab0e-1735ddc3b051",
   "metadata": {},
   "outputs": [],
   "source": [
    "# Ingest Documents into a Vector Database\n",
    "text_splitter = RecursiveCharacterTextSplitter()\n",
    "documents = text_splitter.split_documents(docs)\n",
    "vector = FAISS.from_documents(documents, embeddings)"
   ]
  },
  {
   "cell_type": "code",
   "execution_count": 17,
   "id": "93f7f641-d9bc-44fd-9024-362c945df7bc",
   "metadata": {},
   "outputs": [],
   "source": [
    "# This function generates a chain that takes in several documents (or pieces of text) \n",
    "# and merges them into a single response or output.\n",
    "\n",
    "from langchain.chains.combine_documents import create_stuff_documents_chain\n",
    "\n",
    "prompt = ChatPromptTemplate.from_template(\"\"\"Answer the following question based only on the provided context:\n",
    "\n",
    "<context>\n",
    "{context}\n",
    "</context>\n",
    "\n",
    "Question: {input}\"\"\")\n",
    "\n",
    "document_chain = create_stuff_documents_chain(llm, prompt)\n"
   ]
  },
  {
   "cell_type": "code",
   "execution_count": 18,
   "id": "3d545a73-5e28-4ba9-b514-f32c59cc2abc",
   "metadata": {},
   "outputs": [],
   "source": [
    "retriever = vector.as_retriever()\n",
    "retrieval_chain = create_retrieval_chain(retriever, document_chain)"
   ]
  },
  {
   "cell_type": "code",
   "execution_count": 19,
   "id": "ac795af3-4491-4bc9-8db7-00cec7d722e8",
   "metadata": {},
   "outputs": [
    {
     "name": "stdout",
     "output_type": "stream",
     "text": [
      "Nicolas A. Dürr is the CEO & Founder of futurebrains, a company that specializes in digital transformation and offers services to startups and businesses. He has experience in startups, the middle market, and enterprises, as well as a background in IT security, IoT, and management.\n"
     ]
    }
   ],
   "source": [
    "response = retrieval_chain.invoke({\"input\": \"Who is Nicolas Dürr?\"})\n",
    "print(response[\"answer\"])\n"
   ]
  },
  {
   "cell_type": "markdown",
   "id": "3ecc95fe-8e9c-46e0-8513-1caab04c9d7f",
   "metadata": {},
   "source": [
    "### Conversation - Modify Chain to answer follow up questions\n",
    "- Retrieval should consider whole chat history"
   ]
  },
  {
   "cell_type": "code",
   "execution_count": 20,
   "id": "96c25b32-e84f-4037-9bc6-4afd414ab34a",
   "metadata": {},
   "outputs": [],
   "source": [
    "# Use  of Placeholder  designed to be replaced with actual chat history\n",
    "prompt = ChatPromptTemplate.from_messages([\n",
    "    MessagesPlaceholder(variable_name=\"chat_history\"),\n",
    "    (\"user\", \"{input}\"),\n",
    "    (\"user\", \"Given the above conversation, generate a search query to look up to get information relevant to the conversation\")\n",
    "])\n",
    "retriever_chain = create_history_aware_retriever(llm, retriever, prompt)"
   ]
  },
  {
   "cell_type": "code",
   "execution_count": 21,
   "id": "06ed9c0e-0a29-4126-8f1d-61054a616505",
   "metadata": {},
   "outputs": [],
   "source": [
    "prompt = ChatPromptTemplate.from_messages([\n",
    "    (\"system\", \"Answer the user's questions based on the below context:\\n\\n{context}\"),\n",
    "    MessagesPlaceholder(variable_name=\"chat_history\"),\n",
    "    (\"user\", \"{input}\"),\n",
    "])\n",
    "document_chain = create_stuff_documents_chain(llm, prompt)\n",
    "\n",
    "retrieval_chain = create_retrieval_chain(retriever_chain, document_chain)"
   ]
  },
  {
   "cell_type": "code",
   "execution_count": 22,
   "id": "87876d45-def4-4eb2-ad6b-f376fae91e88",
   "metadata": {},
   "outputs": [
    {
     "name": "stdout",
     "output_type": "stream",
     "text": [
      "Nicolas is a bridge builder between business and technology, leveraging his expertise in IT security, IoT, machine engineering, building management, and mobility. He challenges both leadership and technical teams to implement new business models effectively and establish them in the market.\n"
     ]
    }
   ],
   "source": [
    "# Human Message -> User\n",
    "# AI Message -> Response from LLM\n",
    "chat_history = [HumanMessage(content=\"Can Nicolas help me transforming my Business?\"), \n",
    "                AIMessage(content=\"Absolutely, he is a Builder by Heart!\")]\n",
    "\n",
    "response = retrieval_chain.invoke({\n",
    "    \"chat_history\": chat_history,\n",
    "    \"input\": \"Tell me how\"\n",
    "})\n",
    "\n",
    "print(response[\"answer\"])\n"
   ]
  },
  {
   "cell_type": "markdown",
   "id": "7db772a7-ae14-43c9-bd58-abe11dcd747a",
   "metadata": {},
   "source": [
    "### Agents - More Power to the LLM \n",
    "- so far created examples of chains, where each step is known ahead of time.\n",
    "- Now let the LLM decide what steps to take next. "
   ]
  },
  {
   "cell_type": "code",
   "execution_count": 23,
   "id": "fc5b2ffd-0db0-4d65-b6b6-c01c1fcd4415",
   "metadata": {},
   "outputs": [
    {
     "data": {
      "text/plain": [
       "'\\nExample of using the retriever_tool to perform a search\\n\\nquery = \"Tell me about LangSmith\\'s latest updates\"\\nresults = retriever_tool.search(query)\\nprint(results)\\n\\n'"
      ]
     },
     "execution_count": 23,
     "metadata": {},
     "output_type": "execute_result"
    }
   ],
   "source": [
    "# Give access of tools to the agent\n",
    "\n",
    "\n",
    "# retriever: o # It could be \n",
    "retriever_tool = create_retriever_tool(\n",
    "    retriever, # object that will be used by the tool to perform searches or retrieve information.\n",
    "    \"nicolas_search\", #  identifier for the tool\n",
    "    \"Search for information about Nicolas. For any questions about Nicolas, you must use this tool!\", #  provides context or guidance on what the tool is intended\n",
    ")\n",
    "\n",
    "# Purpose: This tool helps in integrating search functionality into your system for specific tasks.\n",
    "\n",
    "\"\"\"\n",
    "Example of using the retriever_tool to perform a search\n",
    "\n",
    "query = \"Tell me about LangSmith's latest updates\"\n",
    "results = retriever_tool.search(query)\n",
    "print(results)\n",
    "\n",
    "\"\"\""
   ]
  },
  {
   "cell_type": "markdown",
   "id": "6740c7a2-f689-4cbd-86a7-81f3af923a93",
   "metadata": {},
   "source": [
    "### Use Search Tool Tavily\n",
    "\n",
    "- Enhance Contextual Awareness: Maintain conversation context across multiple interactions.\n",
    "- Track Information Sources: Ensure transparency by tracking where information is sourced from.\n",
    "- Improve User Experience: Provide more engaging and personalized interactions based on user history and preferences.\n",
    "                "
   ]
  },
  {
   "cell_type": "code",
   "execution_count": 24,
   "id": "7803aa0e-927a-4bab-b280-7d25a323332f",
   "metadata": {},
   "outputs": [],
   "source": [
    "# Use Search Tool Tavily\n",
    "\n",
    "from langchain_community.tools.tavily_search import TavilySearchResults\n",
    "\n",
    "search = TavilySearchResults()"
   ]
  },
  {
   "cell_type": "code",
   "execution_count": 25,
   "id": "4296abce-655b-444c-81c5-a1477ada2554",
   "metadata": {},
   "outputs": [],
   "source": [
    "# Create a list of tools to work with\n",
    "tools = [retriever_tool, search]"
   ]
  },
  {
   "cell_type": "code",
   "execution_count": 26,
   "id": "19769ec3-ab23-4725-b378-c05a4f5e8a01",
   "metadata": {},
   "outputs": [
    {
     "name": "stderr",
     "output_type": "stream",
     "text": [
      "C:\\Users\\rmai\\Python38\\lib\\site-packages\\langsmith\\client.py:5301: LangChainBetaWarning: The function `loads` is in beta. It is actively being worked on, so the API may change.\n",
      "  prompt = loads(json.dumps(prompt_object.manifest))\n"
     ]
    }
   ],
   "source": [
    "# LangChain Hub provides valuable resources that can help you build and customize agent\n",
    "# pre-defined prompts, tools, and templates\n",
    "prompt = hub.pull(\"hwchase17/openai-functions-agent\")\n",
    "\n",
    "llm = ChatOpenAI(model=\"gpt-3.5-turbo\", temperature=0)\n",
    "agent = create_openai_functions_agent(llm, tools, prompt)\n",
    "agent_executor = AgentExecutor(agent=agent, tools=tools, verbose=True)"
   ]
  },
  {
   "cell_type": "code",
   "execution_count": 27,
   "id": "8bcb019e-d323-4159-b546-6843a53f89be",
   "metadata": {},
   "outputs": [
    {
     "name": "stdout",
     "output_type": "stream",
     "text": [
      "\n",
      "\n",
      "\u001b[1m> Entering new AgentExecutor chain...\u001b[0m\n",
      "\u001b[32;1m\u001b[1;3m\n",
      "Invoking: `nicolas_search` with `{'query': 'Nicolas business transformation'}`\n",
      "\n",
      "\n",
      "\u001b[0m\u001b[36;1m\u001b[1;3mNicolas A. Dürr\n",
      "\n",
      "\n",
      "\n",
      "\n",
      "\n",
      "\n",
      "\n",
      "\n",
      "homeServicesKundenstimmenÜber unsPodcastNEUTermin vereinbarenHomeServicesKundenstimmenÜber unsPodcastNEUtermin vereinbarenWir sind Ihre digitalen SpezialistenNicolas A. DürrCEO & Founder\"Die digitale Transformation gewinnt man nicht an der Seitenlinie!\"‍‍ÜberNicolasNicolas verfügt über langjährige Erfahrungen bei Startups, im Mittelstand und in Enterprises!Als Entwicklungsleiter bei AXOOM, einem Spin-Off des Maschinenbauers TRUMPF, war er zuletzt für seine vierzigköpfige Entwicklungsableitung tätig und hat eine IoT-Plattform für den Maschinenbau verantwortet.Zuvor hat er bei Sophos Cloud Sicherheitslösungen entwickelt, um Cloud-Umgebungen in AWS und Microsoft Azure abzusichern.Neben seinem Diplom in Informatik des Karlsruher Instituts für Technologie (KIT) hat Nicolas einen Master in Management und Ökonomie der RTPU.Nicolas ist seit mehreren Jahren Startup-Mentor beim CyberForum in Karlsruhe und Co-Organizer des ProductTank Karlsruhe.. Um die junge Generation mit den nötigen Werkzeugen für digitale Geschäftsmodelle auszustatten lehrt Nicolas als Gastdozent an der Hochschule Karlsruhe.Seit 2020 ist Nicolas selbständig tätig und begleitet sowohl Startups, den Mittelstand bei den Transformationen ihrer Geschäftsmodelle.Fokus bei futurebrainsNicolas ist Brückenbauer zwischen dem Business und Technologie. Er bringt in unseren Projekten seine langjährige Expertise aus verschiedenen Branchen ein (u.a. IT-Security, IoT, Maschinenbau, Gebäudemanagement, Mobility) und agiert als Produkt- oder Partnermanager.Nicolas versteht es, sowohl die Führungsebene als auch die technischen Teams auf Augenhöhe herauszufordern, um neue Geschäftsmodelle fokussiert umzusetzen und im Markt zu etablieren.Unser TeamWir sind Plattform- und Digitalisierungsexperten unterschiedlichster Erfahrungen und Schwerpunkte! Wir sind das Rückgrat von futurebrains!treffen sie die futurebrainsmehr erfahrenDr.ChristophSöllnerDigitalstratege & Enterprise Architect(external)mehr überChristophmehr erfahrenMaximilianGutscheWeb3- und Plattform-Experte(external)mehr überMaximilianmehr erfahrenMarleneDürrChief of Staff(external)mehr überMarleneFragen?Kontaktieren sie unsVielen Dank! Sie haben sich erfolgreich registriert!Oops! Hier ist etwas schiefgelaufen - versuchen Sie es bitte noch mal!SchnellzugriffUnsere ServicesKundenstimmenÜber unsPodcast hörenTermin vereinbarenImpressumCopyright 2023 © Dürr & Gutsche UG (haftungsbeschränkt) & Co. KG. Alle Rechte vorbehalten. DatenschutzerklärungKontaktadresseWeberstr. 976133 Karlsruhetelefon+49 151 65157770E-mailhello@futurebrains.ioSocial media\u001b[0m\u001b[32;1m\u001b[1;3mNicolas A. Dürr is a digital specialist with extensive experience in startups, medium-sized companies, and enterprises. He has a background in software development, IoT platforms, cloud security solutions, and management and economics. Nicolas acts as a bridge between business and technology, bringing expertise from various industries such as IT security, IoT, machine building, building management, and mobility.\n",
      "\n",
      "He is skilled at challenging both the leadership and technical teams to implement new business models effectively and establish them in the market. Nicolas works with startups and medium-sized businesses to transform their business models and focuses on product and partner management.\n",
      "\n",
      "If you are looking to transform your business with a focus on digitalization and innovation, Nicolas could be a valuable resource to help you achieve your goals.\u001b[0m\n",
      "\n",
      "\u001b[1m> Finished chain.\u001b[0m\n"
     ]
    }
   ],
   "source": [
    "chat_history = [HumanMessage(content=\"Can Nicolas help me transforming my Business?\"), \n",
    "                AIMessage(content=\"Absolutely, he is a Builder by Heart!\")]\n",
    "\n",
    "response = agent_executor.invoke({\n",
    "    \"chat_history\": chat_history,\n",
    "    \"input\": \"Tell me how\"\n",
    "})\n",
    "#print(response)\n",
    "#print(response[\"output\"])"
   ]
  },
  {
   "cell_type": "code",
   "execution_count": null,
   "id": "23ab78b9-752c-4473-b33c-b83b7f47437b",
   "metadata": {},
   "outputs": [],
   "source": []
  }
 ],
 "metadata": {
  "kernelspec": {
   "display_name": "Python 3 (ipykernel)",
   "language": "python",
   "name": "python3"
  },
  "language_info": {
   "codemirror_mode": {
    "name": "ipython",
    "version": 3
   },
   "file_extension": ".py",
   "mimetype": "text/x-python",
   "name": "python",
   "nbconvert_exporter": "python",
   "pygments_lexer": "ipython3",
   "version": "3.8.10"
  }
 },
 "nbformat": 4,
 "nbformat_minor": 5
}
